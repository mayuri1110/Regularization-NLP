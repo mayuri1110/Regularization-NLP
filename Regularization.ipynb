{
 "cells": [
  {
   "cell_type": "code",
   "execution_count": 1,
   "metadata": {
    "colab": {
     "base_uri": "https://localhost:8080/"
    },
    "id": "wWtJ1E7IwVtB",
    "outputId": "3a7a035d-1c52-4553-ab66-baaa1413224c"
   },
   "outputs": [
    {
     "name": "stdout",
     "output_type": "stream",
     "text": [
      "Populating the interactive namespace from numpy and matplotlib\n"
     ]
    }
   ],
   "source": [
    "%pylab inline\n",
    "\n",
    "import numpy as np\n",
    "import pandas as pd\n",
    "from sklearn.metrics import accuracy_score\n",
    "\n",
    "from matplotlib import pyplot\n",
    "\n",
    "import tensorflow as tf\n",
    "fashion_mnist = tf.keras.datasets.cifar10\n",
    "\n",
    "# To stop potential randomness\n",
    "seed = 128\n",
    "rng = np.random.RandomState(seed)"
   ]
  },
  {
   "cell_type": "code",
   "execution_count": 2,
   "metadata": {
    "colab": {
     "base_uri": "https://localhost:8080/"
    },
    "id": "M5R7KrURwVtB",
    "outputId": "3353e7ff-a0a0-4c49-a7cf-dbe44963ea64"
   },
   "outputs": [],
   "source": [
    "(X_train, y_train), (X_test, y_test) = fashion_mnist.load_data()"
   ]
  },
  {
   "cell_type": "code",
   "execution_count": 3,
   "metadata": {
    "colab": {
     "base_uri": "https://localhost:8080/"
    },
    "id": "4P0tP0PNwVtC",
    "outputId": "067e0e1b-a62f-4f4e-b10c-87cc8428c6a8",
    "scrolled": true
   },
   "outputs": [
    {
     "name": "stdout",
     "output_type": "stream",
     "text": [
      "X_train shape (50000, 32, 32, 3)\n",
      "y_train shape (50000, 1)\n",
      "X_test shape (10000, 32, 32, 3)\n",
      "y_test shape (10000, 1)\n",
      "Train matrix shape (50000, 32, 32, 3)\n",
      "Test matrix shape (10000, 32, 32, 3)\n"
     ]
    }
   ],
   "source": [
    "# let's print the shape before we reshape and normalize\n",
    "print(\"X_train shape\", X_train.shape)\n",
    "print(\"y_train shape\", y_train.shape)\n",
    "print(\"X_test shape\", X_test.shape)\n",
    "print(\"y_test shape\", y_test.shape)\n",
    "\n",
    "# building the input vector from the 28x28 pixels\n",
    "#X_train = X_train.reshape(60000, 784)\n",
    "X_train = X_train.reshape(X_train.shape[0], 32, 32, 3)\n",
    "X_test = X_test.reshape(X_test.shape[0], 32, 32, 3)\n",
    "#X_test = X_test.reshape(10000, 784)\n",
    "X_train = X_train.astype('float32')\n",
    "X_test = X_test.astype('float32')\n",
    "\n",
    "# normalizing the data to help with the training\n",
    "X_train /= 255\n",
    "X_test /= 255\n",
    "\n",
    "# print the final input shape ready for training\n",
    "print(\"Train matrix shape\", X_train.shape)\n",
    "print(\"Test matrix shape\", X_test.shape)"
   ]
  },
  {
   "cell_type": "code",
   "execution_count": 4,
   "metadata": {
    "colab": {
     "base_uri": "https://localhost:8080/"
    },
    "id": "lIG9-0UEwVtC",
    "outputId": "370afff5-55a0-4a6e-a353-df1f3e2cc03b"
   },
   "outputs": [
    {
     "name": "stdout",
     "output_type": "stream",
     "text": [
      "Shape before one-hot encoding:  (50000, 1)\n",
      "Shape after one-hot encoding:  (50000, 10)\n"
     ]
    }
   ],
   "source": [
    "from tensorflow.keras import utils as np_utils\n",
    "# one-hot encoding using keras' numpy-related utilities\n",
    "n_classes = 10\n",
    "print(\"Shape before one-hot encoding: \", y_train.shape)\n",
    "Y_train = np_utils.to_categorical(y_train, n_classes)\n",
    "Y_test = np_utils.to_categorical(y_test, n_classes)\n",
    "print(\"Shape after one-hot encoding: \", Y_train.shape)"
   ]
  },
  {
   "cell_type": "code",
   "execution_count": null,
   "metadata": {},
   "outputs": [],
   "source": []
  },
  {
   "cell_type": "code",
   "execution_count": 5,
   "metadata": {
    "id": "JRz8XSFfwVtC"
   },
   "outputs": [],
   "source": [
    "from tensorflow.keras.models import Sequential, load_model\n",
    "from tensorflow.keras.layers import Dense, Dropout, Activation, Conv2D, MaxPooling2D, Flatten"
   ]
  },
  {
   "cell_type": "code",
   "execution_count": null,
   "metadata": {},
   "outputs": [],
   "source": []
  },
  {
   "cell_type": "code",
   "execution_count": 6,
   "metadata": {
    "colab": {
     "base_uri": "https://localhost:8080/"
    },
    "id": "sgSTFMe_wVtC",
    "outputId": "0bb8d318-5663-4cac-8361-54805a0b4e34",
    "scrolled": true
   },
   "outputs": [
    {
     "name": "stdout",
     "output_type": "stream",
     "text": [
      "Model: \"sequential\"\n",
      "_________________________________________________________________\n",
      " Layer (type)                Output Shape              Param #   \n",
      "=================================================================\n",
      " conv2d (Conv2D)             (None, 32, 32, 32)        896       \n",
      "                                                                 \n",
      " conv2d_1 (Conv2D)           (None, 32, 32, 64)        18496     \n",
      "                                                                 \n",
      " max_pooling2d (MaxPooling2D  (None, 16, 16, 64)       0         \n",
      " )                                                               \n",
      "                                                                 \n",
      " conv2d_2 (Conv2D)           (None, 16, 16, 128)       73856     \n",
      "                                                                 \n",
      " conv2d_3 (Conv2D)           (None, 16, 16, 256)       295168    \n",
      "                                                                 \n",
      " max_pooling2d_1 (MaxPooling  (None, 8, 8, 256)        0         \n",
      " 2D)                                                             \n",
      "                                                                 \n",
      " flatten (Flatten)           (None, 16384)             0         \n",
      "                                                                 \n",
      " dense (Dense)               (None, 256)               4194560   \n",
      "                                                                 \n",
      " dense_1 (Dense)             (None, 10)                2570      \n",
      "                                                                 \n",
      "=================================================================\n",
      "Total params: 4,585,546\n",
      "Trainable params: 4,585,546\n",
      "Non-trainable params: 0\n",
      "_________________________________________________________________\n"
     ]
    }
   ],
   "source": [
    "epochs = 10\n",
    "batch_size = 128\n",
    "\n",
    "model = Sequential()\n",
    "model.add(Conv2D(32, (3, 3), activation='relu', padding='same', input_shape=(32,32,3)))\n",
    "model.add(Conv2D(64, (3, 3), activation='relu', padding='same'))\n",
    "model.add(MaxPooling2D((2, 2)))\n",
    "model.add(Conv2D(128, (3, 3), activation='relu', padding='same'))\n",
    "model.add(Conv2D(256, (3, 3), activation='relu', padding='same'))\n",
    "model.add(MaxPooling2D((2, 2)))\n",
    "model.add(Flatten())\n",
    "model.add(Dense(256, activation='relu'))\n",
    "model.add(Dense(10, activation='softmax'))\n",
    "model.compile(optimizer='sgd', loss='categorical_crossentropy', metrics=['accuracy'])\n",
    "model.summary()"
   ]
  },
  {
   "cell_type": "code",
   "execution_count": 9,
   "metadata": {},
   "outputs": [
    {
     "ename": "SyntaxError",
     "evalue": "invalid syntax (14342235.py, line 1)",
     "output_type": "error",
     "traceback": [
      "\u001b[1;36m  File \u001b[1;32m\"C:\\Users\\sonalib\\AppData\\Local\\Temp\\ipykernel_588\\14342235.py\"\u001b[1;36m, line \u001b[1;32m1\u001b[0m\n\u001b[1;33m    https://medium.com/analytics-vidhya/everything-you-need-to-know-about-regularizer-eb477b0c82ba\u001b[0m\n\u001b[1;37m          ^\u001b[0m\n\u001b[1;31mSyntaxError\u001b[0m\u001b[1;31m:\u001b[0m invalid syntax\n"
     ]
    }
   ],
   "source": [
    "https://medium.com/analytics-vidhya/everything-you-need-to-know-about-regularizer-eb477b0c82ba"
   ]
  },
  {
   "cell_type": "code",
   "execution_count": 10,
   "metadata": {
    "colab": {
     "base_uri": "https://localhost:8080/"
    },
    "id": "n3jDqZ79wVtC",
    "outputId": "eb2a5b3b-2957-4500-ca82-821b4e3b815b"
   },
   "outputs": [
    {
     "name": "stdout",
     "output_type": "stream",
     "text": [
      "Epoch 1/10\n",
      "391/391 [==============================] - 257s 655ms/step - loss: 1.3958 - accuracy: 0.4955 - val_loss: 1.0664 - val_accuracy: 0.6193\n",
      "Epoch 2/10\n",
      "391/391 [==============================] - 302s 774ms/step - loss: 0.8892 - accuracy: 0.6872 - val_loss: 0.8430 - val_accuracy: 0.7036\n",
      "Epoch 3/10\n",
      "391/391 [==============================] - 296s 758ms/step - loss: 0.6776 - accuracy: 0.7645 - val_loss: 0.7408 - val_accuracy: 0.7490\n",
      "Epoch 4/10\n",
      "391/391 [==============================] - 280s 716ms/step - loss: 0.5127 - accuracy: 0.8233 - val_loss: 0.7123 - val_accuracy: 0.7590\n",
      "Epoch 5/10\n",
      "391/391 [==============================] - 281s 718ms/step - loss: 0.3599 - accuracy: 0.8751 - val_loss: 0.7020 - val_accuracy: 0.7721\n",
      "Epoch 6/10\n",
      "391/391 [==============================] - 300s 766ms/step - loss: 0.2256 - accuracy: 0.9227 - val_loss: 0.8650 - val_accuracy: 0.7570\n",
      "Epoch 7/10\n",
      "391/391 [==============================] - 286s 731ms/step - loss: 0.1377 - accuracy: 0.9526 - val_loss: 0.9641 - val_accuracy: 0.7652\n",
      "Epoch 8/10\n",
      "391/391 [==============================] - 280s 716ms/step - loss: 0.0968 - accuracy: 0.9669 - val_loss: 1.1116 - val_accuracy: 0.7607\n",
      "Epoch 9/10\n",
      "391/391 [==============================] - 274s 701ms/step - loss: 0.0643 - accuracy: 0.9781 - val_loss: 1.2800 - val_accuracy: 0.7658\n",
      "Epoch 10/10\n",
      "391/391 [==============================] - 276s 706ms/step - loss: 0.0665 - accuracy: 0.9772 - val_loss: 1.2767 - val_accuracy: 0.7636\n"
     ]
    }
   ],
   "source": [
    "model.compile(loss='categorical_crossentropy', optimizer='adam', metrics=['accuracy'])\n",
    "\n",
    "trained_model_5d = model.fit(X_train, Y_train, epochs=epochs, batch_size=batch_size, validation_data=(X_test, Y_test))"
   ]
  },
  {
   "cell_type": "code",
   "execution_count": 11,
   "metadata": {
    "colab": {
     "base_uri": "https://localhost:8080/"
    },
    "id": "tzIrhYQxwVtC",
    "outputId": "f094e39d-7546-459e-8d44-f43f1bbfac91"
   },
   "outputs": [
    {
     "name": "stdout",
     "output_type": "stream",
     "text": [
      "Model: \"sequential_1\"\n",
      "_________________________________________________________________\n",
      " Layer (type)                Output Shape              Param #   \n",
      "=================================================================\n",
      " conv2d_4 (Conv2D)           (None, 32, 32, 32)        896       \n",
      "                                                                 \n",
      " conv2d_5 (Conv2D)           (None, 32, 32, 64)        18496     \n",
      "                                                                 \n",
      " max_pooling2d_2 (MaxPooling  (None, 16, 16, 64)       0         \n",
      " 2D)                                                             \n",
      "                                                                 \n",
      " conv2d_6 (Conv2D)           (None, 16, 16, 128)       73856     \n",
      "                                                                 \n",
      " conv2d_7 (Conv2D)           (None, 16, 16, 256)       295168    \n",
      "                                                                 \n",
      " max_pooling2d_3 (MaxPooling  (None, 8, 8, 256)        0         \n",
      " 2D)                                                             \n",
      "                                                                 \n",
      " flatten_1 (Flatten)         (None, 16384)             0         \n",
      "                                                                 \n",
      " dense_2 (Dense)             (None, 256)               4194560   \n",
      "                                                                 \n",
      " dense_3 (Dense)             (None, 10)                2570      \n",
      "                                                                 \n",
      "=================================================================\n",
      "Total params: 4,585,546\n",
      "Trainable params: 4,585,546\n",
      "Non-trainable params: 0\n",
      "_________________________________________________________________\n"
     ]
    }
   ],
   "source": [
    "#L2\n",
    "from keras import regularizers\n",
    "regv = 0.0001\n",
    "model = Sequential()\n",
    "model.add(Conv2D(32, (3, 3), activation='relu', padding='same', input_shape=(32,32,3), kernel_regularizer=regularizers.l2(regv)))\n",
    "model.add(Conv2D(64, (3, 3), activation='relu', padding='same', kernel_regularizer=regularizers.l2(regv)))\n",
    "model.add(MaxPooling2D((2, 2)))\n",
    "model.add(Conv2D(128, (3, 3), activation='relu', padding='same', kernel_regularizer=regularizers.l2(regv)))\n",
    "model.add(Conv2D(256, (3, 3), activation='relu', padding='same', kernel_regularizer=regularizers.l2(regv)))\n",
    "model.add(MaxPooling2D((2, 2)))\n",
    "model.add(Flatten())\n",
    "model.add(Dense(256, activation='relu', kernel_regularizer=regularizers.l2(regv)))\n",
    "model.add(Dense(10, activation='softmax', kernel_regularizer=regularizers.l2(regv)))\n",
    "model.compile(optimizer='sgd', loss='categorical_crossentropy', metrics=['accuracy'])\n",
    "model.summary()"
   ]
  },
  {
   "cell_type": "code",
   "execution_count": 12,
   "metadata": {
    "colab": {
     "base_uri": "https://localhost:8080/"
    },
    "id": "C-k9Thf1wVtC",
    "outputId": "01910301-2c09-4e2f-9d29-968f15a7a8b2",
    "scrolled": true
   },
   "outputs": [
    {
     "name": "stdout",
     "output_type": "stream",
     "text": [
      "Epoch 1/10\n",
      "391/391 [==============================] - 404s 1s/step - loss: 1.5060 - accuracy: 0.4679 - val_loss: 1.1558 - val_accuracy: 0.6058\n",
      "Epoch 2/10\n",
      "391/391 [==============================] - 402s 1s/step - loss: 1.0192 - accuracy: 0.6635 - val_loss: 0.9997 - val_accuracy: 0.6786\n",
      "Epoch 3/10\n",
      "391/391 [==============================] - 400s 1s/step - loss: 0.8305 - accuracy: 0.7392 - val_loss: 0.8389 - val_accuracy: 0.7400\n",
      "Epoch 4/10\n",
      "391/391 [==============================] - 400s 1s/step - loss: 0.7148 - accuracy: 0.7871 - val_loss: 0.8182 - val_accuracy: 0.7584\n",
      "Epoch 5/10\n",
      "391/391 [==============================] - 404s 1s/step - loss: 0.6240 - accuracy: 0.8240 - val_loss: 0.8100 - val_accuracy: 0.7641\n",
      "Epoch 6/10\n",
      "391/391 [==============================] - 343s 877ms/step - loss: 0.5448 - accuracy: 0.8582 - val_loss: 0.8172 - val_accuracy: 0.7782\n",
      "Epoch 7/10\n",
      "391/391 [==============================] - 322s 824ms/step - loss: 0.4658 - accuracy: 0.8910 - val_loss: 0.8489 - val_accuracy: 0.7786\n",
      "Epoch 8/10\n",
      "391/391 [==============================] - 321s 821ms/step - loss: 0.4165 - accuracy: 0.9129 - val_loss: 0.9478 - val_accuracy: 0.7685\n",
      "Epoch 9/10\n",
      "391/391 [==============================] - 286s 731ms/step - loss: 0.3657 - accuracy: 0.9367 - val_loss: 0.9974 - val_accuracy: 0.7762\n",
      "Epoch 10/10\n",
      "391/391 [==============================] - 289s 739ms/step - loss: 0.3438 - accuracy: 0.9475 - val_loss: 1.0979 - val_accuracy: 0.7597\n"
     ]
    }
   ],
   "source": [
    "model.compile(loss='categorical_crossentropy', optimizer='adam', metrics=['accuracy'])\n",
    "\n",
    "trained_model_5d = model.fit(X_train, Y_train, epochs=epochs, batch_size=batch_size, validation_data=(X_test, Y_test))"
   ]
  },
  {
   "cell_type": "code",
   "execution_count": 13,
   "metadata": {
    "colab": {
     "base_uri": "https://localhost:8080/"
    },
    "id": "rdagfmuQwVtC",
    "outputId": "823bb7a2-5b97-47e6-c3da-59152aceb9a0"
   },
   "outputs": [
    {
     "name": "stdout",
     "output_type": "stream",
     "text": [
      "Model: \"sequential_2\"\n",
      "_________________________________________________________________\n",
      " Layer (type)                Output Shape              Param #   \n",
      "=================================================================\n",
      " conv2d_8 (Conv2D)           (None, 32, 32, 32)        896       \n",
      "                                                                 \n",
      " conv2d_9 (Conv2D)           (None, 32, 32, 64)        18496     \n",
      "                                                                 \n",
      " max_pooling2d_4 (MaxPooling  (None, 16, 16, 64)       0         \n",
      " 2D)                                                             \n",
      "                                                                 \n",
      " conv2d_10 (Conv2D)          (None, 16, 16, 128)       73856     \n",
      "                                                                 \n",
      " conv2d_11 (Conv2D)          (None, 16, 16, 256)       295168    \n",
      "                                                                 \n",
      " max_pooling2d_5 (MaxPooling  (None, 8, 8, 256)        0         \n",
      " 2D)                                                             \n",
      "                                                                 \n",
      " flatten_2 (Flatten)         (None, 16384)             0         \n",
      "                                                                 \n",
      " dense_4 (Dense)             (None, 256)               4194560   \n",
      "                                                                 \n",
      " dropout (Dropout)           (None, 256)               0         \n",
      "                                                                 \n",
      " dense_5 (Dense)             (None, 10)                2570      \n",
      "                                                                 \n",
      "=================================================================\n",
      "Total params: 4,585,546\n",
      "Trainable params: 4,585,546\n",
      "Non-trainable params: 0\n",
      "_________________________________________________________________\n"
     ]
    }
   ],
   "source": [
    "## dropout\n",
    "\n",
    "from keras.layers.core import Dropout\n",
    "model = Sequential()\n",
    "model.add(Conv2D(32, (3, 3), activation='relu', padding='same', input_shape=(32,32,3)))\n",
    "model.add(Conv2D(64, (3, 3), activation='relu', padding='same'))\n",
    "model.add(MaxPooling2D((2, 2)))\n",
    "model.add(Conv2D(128, (3, 3), activation='relu', padding='same'))\n",
    "model.add(Conv2D(256, (3, 3), activation='relu', padding='same'))\n",
    "model.add(MaxPooling2D((2, 2)))\n",
    "model.add(Flatten())\n",
    "model.add(Dense(256, activation='relu'))\n",
    "model.add(Dropout(0.5))\n",
    "model.add(Dense(10, activation='softmax'))\n",
    "model.compile(optimizer='sgd', loss='categorical_crossentropy', metrics=['accuracy'])\n",
    "model.summary()"
   ]
  },
  {
   "cell_type": "code",
   "execution_count": 14,
   "metadata": {
    "colab": {
     "base_uri": "https://localhost:8080/"
    },
    "id": "ZDswp-LNwVtC",
    "outputId": "4ceb7318-c053-4bb7-9804-529395f64e58"
   },
   "outputs": [
    {
     "name": "stdout",
     "output_type": "stream",
     "text": [
      "Epoch 1/10\n",
      "391/391 [==============================] - 287s 730ms/step - loss: 1.5563 - accuracy: 0.4359 - val_loss: 1.1762 - val_accuracy: 0.5863\n",
      "Epoch 2/10\n",
      "391/391 [==============================] - 284s 726ms/step - loss: 1.0996 - accuracy: 0.6137 - val_loss: 0.9676 - val_accuracy: 0.6662\n",
      "Epoch 3/10\n",
      "391/391 [==============================] - 284s 727ms/step - loss: 0.8993 - accuracy: 0.6860 - val_loss: 0.7910 - val_accuracy: 0.7248\n",
      "Epoch 4/10\n",
      "391/391 [==============================] - 286s 731ms/step - loss: 0.7655 - accuracy: 0.7331 - val_loss: 0.7122 - val_accuracy: 0.7528\n",
      "Epoch 5/10\n",
      "391/391 [==============================] - 285s 729ms/step - loss: 0.6685 - accuracy: 0.7662 - val_loss: 0.6921 - val_accuracy: 0.7628\n",
      "Epoch 6/10\n",
      "391/391 [==============================] - 285s 728ms/step - loss: 0.5682 - accuracy: 0.8008 - val_loss: 0.6958 - val_accuracy: 0.7634\n",
      "Epoch 7/10\n",
      "391/391 [==============================] - 285s 728ms/step - loss: 0.4903 - accuracy: 0.8271 - val_loss: 0.6963 - val_accuracy: 0.7688\n",
      "Epoch 8/10\n",
      "391/391 [==============================] - 56025s 144s/step - loss: 0.4206 - accuracy: 0.8510 - val_loss: 0.6813 - val_accuracy: 0.7845\n",
      "Epoch 9/10\n",
      "391/391 [==============================] - 464s 1s/step - loss: 0.3635 - accuracy: 0.8712 - val_loss: 0.7050 - val_accuracy: 0.7924\n",
      "Epoch 10/10\n",
      "391/391 [==============================] - 439s 1s/step - loss: 0.3059 - accuracy: 0.8890 - val_loss: 0.7556 - val_accuracy: 0.7716\n"
     ]
    }
   ],
   "source": [
    "model.compile(loss='categorical_crossentropy', optimizer='adam', metrics=['accuracy'])\n",
    "trained_model_5d = model.fit(X_train, Y_train, epochs=epochs, batch_size=batch_size, validation_data=(X_test, Y_test))"
   ]
  },
  {
   "cell_type": "code",
   "execution_count": 15,
   "metadata": {
    "colab": {
     "base_uri": "https://localhost:8080/"
    },
    "id": "cRc0IznQ41t1",
    "outputId": "6c2e9882-2949-4e59-9213-5cac27304416"
   },
   "outputs": [
    {
     "name": "stdout",
     "output_type": "stream",
     "text": [
      "Model: \"sequential_3\"\n",
      "_________________________________________________________________\n",
      " Layer (type)                Output Shape              Param #   \n",
      "=================================================================\n",
      " conv2d_12 (Conv2D)          (None, 32, 32, 32)        896       \n",
      "                                                                 \n",
      " batch_normalization (BatchN  (None, 32, 32, 32)       128       \n",
      " ormalization)                                                   \n",
      "                                                                 \n",
      " conv2d_13 (Conv2D)          (None, 32, 32, 64)        18496     \n",
      "                                                                 \n",
      " batch_normalization_1 (Batc  (None, 32, 32, 64)       256       \n",
      " hNormalization)                                                 \n",
      "                                                                 \n",
      " max_pooling2d_6 (MaxPooling  (None, 16, 16, 64)       0         \n",
      " 2D)                                                             \n",
      "                                                                 \n",
      " conv2d_14 (Conv2D)          (None, 16, 16, 128)       73856     \n",
      "                                                                 \n",
      " batch_normalization_2 (Batc  (None, 16, 16, 128)      512       \n",
      " hNormalization)                                                 \n",
      "                                                                 \n",
      " conv2d_15 (Conv2D)          (None, 16, 16, 256)       295168    \n",
      "                                                                 \n",
      " batch_normalization_3 (Batc  (None, 16, 16, 256)      1024      \n",
      " hNormalization)                                                 \n",
      "                                                                 \n",
      " max_pooling2d_7 (MaxPooling  (None, 8, 8, 256)        0         \n",
      " 2D)                                                             \n",
      "                                                                 \n",
      " flatten_3 (Flatten)         (None, 16384)             0         \n",
      "                                                                 \n",
      " dense_6 (Dense)             (None, 256)               4194560   \n",
      "                                                                 \n",
      " dropout_1 (Dropout)         (None, 256)               0         \n",
      "                                                                 \n",
      " batch_normalization_4 (Batc  (None, 256)              1024      \n",
      " hNormalization)                                                 \n",
      "                                                                 \n",
      " dense_7 (Dense)             (None, 10)                2570      \n",
      "                                                                 \n",
      "=================================================================\n",
      "Total params: 4,588,490\n",
      "Trainable params: 4,587,018\n",
      "Non-trainable params: 1,472\n",
      "_________________________________________________________________\n"
     ]
    }
   ],
   "source": [
    "## Batchnorm\n",
    "\n",
    "from tensorflow.keras.layers import BatchNormalization\n",
    "model = Sequential()\n",
    "model.add(Conv2D(32, (3, 3), activation='relu', padding='same', input_shape=(32,32,3)))\n",
    "model.add(BatchNormalization())\n",
    "model.add(Conv2D(64, (3, 3), activation='relu', padding='same'))\n",
    "model.add(BatchNormalization())\n",
    "model.add(MaxPooling2D((2, 2)))\n",
    "model.add(Conv2D(128, (3, 3), activation='relu', padding='same'))\n",
    "model.add(BatchNormalization())\n",
    "model.add(Conv2D(256, (3, 3), activation='relu', padding='same'))\n",
    "model.add(BatchNormalization())\n",
    "model.add(MaxPooling2D((2, 2)))\n",
    "model.add(Flatten())\n",
    "model.add(Dense(256, activation='relu'))\n",
    "model.add(Dropout(0.5))\n",
    "model.add(BatchNormalization())\n",
    "model.add(Dense(10, activation='softmax'))\n",
    "model.compile(optimizer='sgd', loss='categorical_crossentropy', metrics=['accuracy'])\n",
    "model.summary()"
   ]
  },
  {
   "cell_type": "code",
   "execution_count": 16,
   "metadata": {
    "colab": {
     "base_uri": "https://localhost:8080/"
    },
    "id": "y6x6VPx746ZL",
    "outputId": "a01f91c6-7e34-46da-b41f-603a90ca5f8d"
   },
   "outputs": [
    {
     "name": "stdout",
     "output_type": "stream",
     "text": [
      "Epoch 1/10\n",
      "391/391 [==============================] - 450s 1s/step - loss: 1.2810 - accuracy: 0.5513 - val_loss: 2.3930 - val_accuracy: 0.2951\n",
      "Epoch 2/10\n",
      "391/391 [==============================] - 340s 869ms/step - loss: 0.8194 - accuracy: 0.7132 - val_loss: 0.7544 - val_accuracy: 0.7283\n",
      "Epoch 3/10\n",
      "391/391 [==============================] - 327s 837ms/step - loss: 0.6359 - accuracy: 0.7799 - val_loss: 0.7024 - val_accuracy: 0.7528\n",
      "Epoch 4/10\n",
      "391/391 [==============================] - 327s 836ms/step - loss: 0.4840 - accuracy: 0.8341 - val_loss: 0.6302 - val_accuracy: 0.7860\n",
      "Epoch 5/10\n",
      "391/391 [==============================] - 326s 833ms/step - loss: 0.3753 - accuracy: 0.8710 - val_loss: 0.6394 - val_accuracy: 0.7833\n",
      "Epoch 6/10\n",
      "391/391 [==============================] - 366s 935ms/step - loss: 0.2696 - accuracy: 0.9083 - val_loss: 0.6983 - val_accuracy: 0.7858\n",
      "Epoch 7/10\n",
      "391/391 [==============================] - 359s 918ms/step - loss: 0.1917 - accuracy: 0.9363 - val_loss: 0.6118 - val_accuracy: 0.8115\n",
      "Epoch 8/10\n",
      "391/391 [==============================] - 358s 916ms/step - loss: 0.1407 - accuracy: 0.9531 - val_loss: 0.6978 - val_accuracy: 0.8061\n",
      "Epoch 9/10\n",
      "391/391 [==============================] - 387s 990ms/step - loss: 0.1142 - accuracy: 0.9612 - val_loss: 0.6718 - val_accuracy: 0.8108\n",
      "Epoch 10/10\n",
      "391/391 [==============================] - 374s 957ms/step - loss: 0.0986 - accuracy: 0.9663 - val_loss: 0.7113 - val_accuracy: 0.8109\n"
     ]
    }
   ],
   "source": [
    "model.compile(loss='categorical_crossentropy', optimizer='adam', metrics=['accuracy'])\n",
    "trained_model_5d = model.fit(X_train, Y_train, epochs=epochs, batch_size=batch_size, validation_data=(X_test, Y_test))"
   ]
  },
  {
   "cell_type": "code",
   "execution_count": null,
   "metadata": {
    "colab": {
     "base_uri": "https://localhost:8080/"
    },
    "id": "BgJLZi9KG6NZ",
    "outputId": "babbff95-2e3e-4442-f5e0-22bb858bdc43"
   },
   "outputs": [],
   "source": [
    "from tensorflow.keras.layers import BatchNormalization\n",
    "model = Sequential()\n",
    "model.add(Conv2D(32, (3, 3), activation='relu', padding='same', input_shape=(32,32,3)))\n",
    "model.add(BatchNormalization())\n",
    "model.add(Conv2D(64, (3, 3), activation='relu', padding='same'))\n",
    "model.add(BatchNormalization())\n",
    "model.add(MaxPooling2D((2, 2)))\n",
    "model.add(Conv2D(128, (3, 3), activation='relu', padding='same'))\n",
    "model.add(BatchNormalization())\n",
    "model.add(Conv2D(256, (3, 3), activation='relu', padding='same'))\n",
    "model.add(BatchNormalization())\n",
    "model.add(MaxPooling2D((2, 2)))\n",
    "model.add(Flatten())\n",
    "model.add(Dense(256, activation='relu'))\n",
    "model.add(Dropout(0.4))\n",
    "model.add(BatchNormalization())\n",
    "model.add(Dense(10, activation='softmax'))\n",
    "model.compile(optimizer='sgd', loss='categorical_crossentropy', metrics=['accuracy'])\n",
    "model.summary()"
   ]
  },
  {
   "cell_type": "code",
   "execution_count": 17,
   "metadata": {
    "id": "g835MRTRGEKn"
   },
   "outputs": [],
   "source": [
    "from tensorflow.keras.preprocessing.image import ImageDataGenerator\n",
    "aug = ImageDataGenerator(horizontal_flip=True)"
   ]
  },
  {
   "cell_type": "code",
   "execution_count": 18,
   "metadata": {
    "colab": {
     "base_uri": "https://localhost:8080/"
    },
    "id": "FjAhtnvKGVSZ",
    "outputId": "36c52b73-cfb5-41b0-acb8-8ec0ad818287"
   },
   "outputs": [
    {
     "name": "stdout",
     "output_type": "stream",
     "text": [
      "Epoch 1/10\n",
      "390/390 [==============================] - 387s 989ms/step - loss: 0.4226 - accuracy: 0.8694 - val_loss: 0.7374 - val_accuracy: 0.7627\n",
      "Epoch 2/10\n",
      "390/390 [==============================] - 401s 1s/step - loss: 0.2996 - accuracy: 0.9001 - val_loss: 0.5562 - val_accuracy: 0.8215\n",
      "Epoch 3/10\n",
      "390/390 [==============================] - 383s 983ms/step - loss: 0.2315 - accuracy: 0.9242 - val_loss: 0.5928 - val_accuracy: 0.8181\n",
      "Epoch 4/10\n",
      "390/390 [==============================] - 391s 1s/step - loss: 0.1984 - accuracy: 0.9329 - val_loss: 0.5367 - val_accuracy: 0.8332\n",
      "Epoch 5/10\n",
      "390/390 [==============================] - 351s 901ms/step - loss: 0.1749 - accuracy: 0.9422 - val_loss: 0.5935 - val_accuracy: 0.8274\n",
      "Epoch 6/10\n",
      "390/390 [==============================] - 355s 910ms/step - loss: 0.1481 - accuracy: 0.9496 - val_loss: 0.6469 - val_accuracy: 0.8222\n",
      "Epoch 7/10\n",
      "390/390 [==============================] - 361s 925ms/step - loss: 0.1325 - accuracy: 0.9554 - val_loss: 0.5637 - val_accuracy: 0.8429\n",
      "Epoch 8/10\n",
      "390/390 [==============================] - 353s 905ms/step - loss: 0.1248 - accuracy: 0.9578 - val_loss: 0.5542 - val_accuracy: 0.8443\n",
      "Epoch 9/10\n",
      "390/390 [==============================] - 356s 912ms/step - loss: 0.1116 - accuracy: 0.9624 - val_loss: 0.7482 - val_accuracy: 0.8162\n",
      "Epoch 10/10\n",
      "390/390 [==============================] - 375s 961ms/step - loss: 0.1022 - accuracy: 0.9660 - val_loss: 0.7242 - val_accuracy: 0.8188\n"
     ]
    },
    {
     "data": {
      "text/plain": [
       "<keras.callbacks.History at 0x18d4c01ee20>"
      ]
     },
     "execution_count": 18,
     "metadata": {},
     "output_type": "execute_result"
    }
   ],
   "source": [
    "model.fit(x=aug.flow(X_train, Y_train, batch_size=batch_size),validation_data=(X_test, Y_test),\n",
    "\tsteps_per_epoch=len(X_train) // batch_size,\n",
    "\tepochs=epochs)"
   ]
  }
 ],
 "metadata": {
  "accelerator": "GPU",
  "colab": {
   "collapsed_sections": [],
   "name": "Regularization.ipynb",
   "provenance": []
  },
  "kernelspec": {
   "display_name": "Python 3 (ipykernel)",
   "language": "python",
   "name": "python3"
  },
  "language_info": {
   "codemirror_mode": {
    "name": "ipython",
    "version": 3
   },
   "file_extension": ".py",
   "mimetype": "text/x-python",
   "name": "python",
   "nbconvert_exporter": "python",
   "pygments_lexer": "ipython3",
   "version": "3.9.13"
  }
 },
 "nbformat": 4,
 "nbformat_minor": 1
}
